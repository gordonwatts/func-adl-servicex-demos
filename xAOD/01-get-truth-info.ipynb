{
 "cells": [
  {
   "cell_type": "markdown",
   "metadata": {},
   "source": [
    "# Getting truth Info\n",
    "\n",
    "Small demo script that grab some simple truth info"
   ]
  },
  {
   "cell_type": "code",
   "execution_count": 1,
   "metadata": {},
   "outputs": [],
   "source": [
    "rucio_name = \"rucio://mc16_13TeV:mc16_13TeV.361022.Pythia8EvtGen_A14NNPDF23LO_jetjet_JZ2W.deriv.DAOD_EXOT15.e3668_s3126_r9364_r9315_p4696?files=20\""
   ]
  },
  {
   "attachments": {},
   "cell_type": "markdown",
   "metadata": {},
   "source": [
    "Make sure to get the type library installed here with:\n",
    "\n",
    "```bash\n",
    "pip install func_adl_servicex_xaodr21\n",
    "```"
   ]
  },
  {
   "cell_type": "code",
   "execution_count": 2,
   "metadata": {},
   "outputs": [],
   "source": [
    "from func_adl_servicex_xaodr21 import SXDSAtlasxAODR21\n",
    "ds = SXDSAtlasxAODR21(rucio_name)"
   ]
  },
  {
   "attachments": {},
   "cell_type": "markdown",
   "metadata": {},
   "source": [
    "Do the query here"
   ]
  },
  {
   "cell_type": "code",
   "execution_count": 3,
   "metadata": {},
   "outputs": [
    {
     "data": {
      "application/vnd.jupyter.widget-view+json": {
       "model_id": "457074699f5242c1b616cb73ff1b0028",
       "version_major": 2,
       "version_minor": 0
      },
      "text/plain": [
       "rucio://mc16_13TeV:m...:   0%|                                                                                …"
      ]
     },
     "metadata": {},
     "output_type": "display_data"
    },
    {
     "data": {
      "application/vnd.jupyter.widget-view+json": {
       "model_id": "dcb4fd77e3aa4cf1b40be1dff3fde164",
       "version_major": 2,
       "version_minor": 0
      },
      "text/plain": [
       "        rucio://mc16_13TeV:m... Downloaded:   0%|                                                             …"
      ]
     },
     "metadata": {},
     "output_type": "display_data"
    },
    {
     "name": "stderr",
     "output_type": "stream",
     "text": [
      "Transform cfe1eafe-870d-49f2-82ef-ea13e64899b4 had 0 errors:\n"
     ]
    },
    {
     "name": "stdout",
     "output_type": "stream",
     "text": [
      "Unexpected exception formatting exception. Falling back to standard exception\n"
     ]
    },
    {
     "name": "stderr",
     "output_type": "stream",
     "text": [
      "Traceback (most recent call last):\n",
      "  File \"/home/atlas-coffea/func-adl-servicex-demos/.venv/lib/python3.8/site-packages/servicex/servicex.py\", line 829, in _get_files\n",
      "    async for r in stream_local_files:\n",
      "  File \"/home/atlas-coffea/func-adl-servicex-demos/.venv/lib/python3.8/site-packages/servicex/servicex.py\", line 966, in _get_files_from_servicex\n",
      "    async for info in stream_downloaded:\n",
      "  File \"/home/atlas-coffea/func-adl-servicex-demos/.venv/lib/python3.8/site-packages/servicex/servicex.py\", line 931, in _download_a_file\n",
      "    async for f in stream:\n",
      "  File \"/home/atlas-coffea/func-adl-servicex-demos/.venv/lib/python3.8/site-packages/servicex/servicex.py\", line 1025, in _get_minio_bucket_files_from_servicex\n",
      "    async for info in stream_new_object:\n",
      "  File \"/home/atlas-coffea/func-adl-servicex-demos/.venv/lib/python3.8/site-packages/servicex/minio_adaptor.py\", line 224, in find_new_bucket_files\n",
      "    async for _ in update:\n",
      "  File \"/home/atlas-coffea/func-adl-servicex-demos/.venv/lib/python3.8/site-packages/servicex/utils.py\", line 242, in stream_unique_updates_only\n",
      "    async for p in stream:\n",
      "  File \"/home/atlas-coffea/func-adl-servicex-demos/.venv/lib/python3.8/site-packages/servicex/servicex_adaptor.py\", line 270, in trap_servicex_failures\n",
      "    raise ServiceXFailedFileTransform(\n",
      "servicex.utils.ServiceXFailedFileTransform: (ServiceXFailedFileTransform(...), 'ServiceX failed to transform 2 files - data incomplete (remaining: 18, processed: 0).')\n",
      "\n",
      "The above exception was the direct cause of the following exception:\n",
      "\n",
      "Traceback (most recent call last):\n",
      "  File \"/home/atlas-coffea/func-adl-servicex-demos/.venv/lib/python3.8/site-packages/IPython/core/interactiveshell.py\", line 3442, in run_code\n",
      "    exec(code_obj, self.user_global_ns, self.user_ns)\n",
      "  File \"/tmp/ipykernel_11199/3646415886.py\", line 1, in <module>\n",
      "    all_particles = (ds\n",
      "  File \"/home/atlas-coffea/func-adl-servicex-demos/.venv/lib/python3.8/site-packages/make_it_sync/func_wrapper.py\", line 63, in wrapped_call\n",
      "    return _sync_version_of_function(fn, *args, **kwargs)\n",
      "  File \"/home/atlas-coffea/func-adl-servicex-demos/.venv/lib/python3.8/site-packages/make_it_sync/func_wrapper.py\", line 26, in _sync_version_of_function\n",
      "    return future.result()\n",
      "  File \"/opt/conda/lib/python3.8/concurrent/futures/_base.py\", line 444, in result\n",
      "    return self.__get_result()\n",
      "  File \"/opt/conda/lib/python3.8/concurrent/futures/_base.py\", line 389, in __get_result\n",
      "    raise self._exception\n",
      "  File \"/opt/conda/lib/python3.8/concurrent/futures/thread.py\", line 57, in run\n",
      "    result = self.fn(*self.args, **self.kwargs)\n",
      "  File \"/home/atlas-coffea/func-adl-servicex-demos/.venv/lib/python3.8/site-packages/make_it_sync/func_wrapper.py\", line 21, in get_data_wrapper\n",
      "    return loop.run_until_complete(fn(*args, **kwargs))\n",
      "  File \"/opt/conda/lib/python3.8/asyncio/base_events.py\", line 616, in run_until_complete\n",
      "    return future.result()\n",
      "  File \"/home/atlas-coffea/func-adl-servicex-demos/.venv/lib/python3.8/site-packages/func_adl/object_stream.py\", line 404, in value_async\n",
      "    return await exe(remove_empty_metadata(self._q_ast), title)\n",
      "  File \"/home/atlas-coffea/func-adl-servicex-demos/.venv/lib/python3.8/site-packages/func_adl_servicex/ServiceX.py\", line 252, in execute_result_async\n",
      "    result = await attr(q_str, title=title)\n",
      "  File \"/home/atlas-coffea/func-adl-servicex-demos/.venv/lib/python3.8/site-packages/servicex/servicex_utils.py\", line 51, in cached_version_of_fn\n",
      "    result = await fn(*args, **kwargs)\n",
      "  File \"/home/atlas-coffea/func-adl-servicex-demos/.venv/lib/python3.8/site-packages/servicex/servicex.py\", line 404, in get_data_awkward_async\n",
      "    await self._data_return(\n",
      "  File \"/home/atlas-coffea/func-adl-servicex-demos/.venv/lib/python3.8/site-packages/backoff/_async.py\", line 151, in retry\n",
      "    ret = await target(*args, **kwargs)\n",
      "  File \"/home/atlas-coffea/func-adl-servicex-demos/.venv/lib/python3.8/site-packages/backoff/_async.py\", line 151, in retry\n",
      "    ret = await target(*args, **kwargs)\n",
      "  File \"/home/atlas-coffea/func-adl-servicex-demos/.venv/lib/python3.8/site-packages/servicex/servicex.py\", line 687, in _data_return\n",
      "    all_data = {\n",
      "  File \"/home/atlas-coffea/func-adl-servicex-demos/.venv/lib/python3.8/site-packages/servicex/servicex.py\", line 687, in <dictcomp>\n",
      "    all_data = {\n",
      "  File \"/home/atlas-coffea/func-adl-servicex-demos/.venv/lib/python3.8/site-packages/servicex/servicex.py\", line 730, in _stream_return\n",
      "    async for r in as_data:\n",
      "  File \"/home/atlas-coffea/func-adl-servicex-demos/.venv/lib/python3.8/site-packages/servicex/servicex.py\", line 725, in <genexpr>\n",
      "    as_data = (\n",
      "  File \"/home/atlas-coffea/func-adl-servicex-demos/.venv/lib/python3.8/site-packages/servicex/servicex.py\", line 765, in _stream_local_files\n",
      "    async for name, a_path in as_files:\n",
      "  File \"/home/atlas-coffea/func-adl-servicex-demos/.venv/lib/python3.8/site-packages/servicex/servicex.py\", line 758, in <genexpr>\n",
      "    as_files = (\n",
      "  File \"/home/atlas-coffea/func-adl-servicex-demos/.venv/lib/python3.8/site-packages/servicex/servicex.py\", line 865, in _get_files\n",
      "    raise ServiceXException(\n",
      "servicex.utils.ServiceXException: (ServiceXException(...), 'Failed to transform all files in cfe1eafe-870d-49f2-82ef-ea13e64899b4')\n",
      "\n",
      "During handling of the above exception, another exception occurred:\n",
      "\n",
      "Traceback (most recent call last):\n",
      "  File \"/home/atlas-coffea/func-adl-servicex-demos/.venv/lib/python3.8/site-packages/IPython/core/interactiveshell.py\", line 2057, in showtraceback\n",
      "    stb = self.InteractiveTB.structured_traceback(\n",
      "  File \"/home/atlas-coffea/func-adl-servicex-demos/.venv/lib/python3.8/site-packages/IPython/core/ultratb.py\", line 1118, in structured_traceback\n",
      "    return FormattedTB.structured_traceback(\n",
      "  File \"/home/atlas-coffea/func-adl-servicex-demos/.venv/lib/python3.8/site-packages/IPython/core/ultratb.py\", line 1012, in structured_traceback\n",
      "    return VerboseTB.structured_traceback(\n",
      "  File \"/home/atlas-coffea/func-adl-servicex-demos/.venv/lib/python3.8/site-packages/IPython/core/ultratb.py\", line 865, in structured_traceback\n",
      "    formatted_exception = self.format_exception_as_a_whole(etype, evalue, etb, number_of_lines_of_context,\n",
      "  File \"/home/atlas-coffea/func-adl-servicex-demos/.venv/lib/python3.8/site-packages/IPython/core/ultratb.py\", line 818, in format_exception_as_a_whole\n",
      "    frames.append(self.format_record(r))\n",
      "  File \"/home/atlas-coffea/func-adl-servicex-demos/.venv/lib/python3.8/site-packages/IPython/core/ultratb.py\", line 736, in format_record\n",
      "    result += ''.join(_format_traceback_lines(frame_info.lines, Colors, self.has_colors, lvals))\n",
      "  File \"/home/atlas-coffea/func-adl-servicex-demos/.venv/lib/python3.8/site-packages/stack_data/utils.py\", line 144, in cached_property_wrapper\n",
      "    value = obj.__dict__[self.func.__name__] = self.func(obj)\n",
      "  File \"/home/atlas-coffea/func-adl-servicex-demos/.venv/lib/python3.8/site-packages/stack_data/core.py\", line 756, in lines\n",
      "    lines = [Line(self, i) for i in piece]  # type: List[Line]\n",
      "  File \"/home/atlas-coffea/func-adl-servicex-demos/.venv/lib/python3.8/site-packages/stack_data/core.py\", line 756, in <listcomp>\n",
      "    lines = [Line(self, i) for i in piece]  # type: List[Line]\n",
      "  File \"/home/atlas-coffea/func-adl-servicex-demos/.venv/lib/python3.8/site-packages/stack_data/core.py\", line 276, in __init__\n",
      "    self.text = frame_info.source.lines[lineno - 1]  # type: str\n",
      "IndexError: list index out of range\n"
     ]
    }
   ],
   "source": [
    "all_particles = (ds\n",
    "                 .SelectMany(lambda e: e.TruthParticles(\"TruthParticles\"))\n",
    "                 .Where(lambda tp: (tp.pt() / 1000) > 10)\n",
    "                 .Select(lambda tp: {\n",
    "                         'pt': tp.pt() / 1000.0,\n",
    "                         'pdgId': abs(tp.pdgId()),\n",
    "                 })\n",
    "                 .AsAwkwardArray()\n",
    "                 .value())"
   ]
  },
  {
   "attachments": {},
   "cell_type": "markdown",
   "metadata": {},
   "source": [
    "And plot..."
   ]
  },
  {
   "cell_type": "code",
   "execution_count": null,
   "metadata": {},
   "outputs": [],
   "source": [
    "from matplotlib import pyplot as plt\n",
    "\n",
    "plt.hist(all_particles.pt, bins=100, range=(0, 30))\n",
    "plt.xlabel('Truth Particle $p_T$ [GeV]')\n",
    "plt.ylabel('Number of Particles')\n",
    "_ = plt.title(r'Truth Particle $p_T$ distribution for $Z\\rightarrow ee$ events')"
   ]
  },
  {
   "cell_type": "markdown",
   "metadata": {},
   "source": []
  }
 ],
 "metadata": {
  "kernelspec": {
   "display_name": ".venv",
   "language": "python",
   "name": "python3"
  },
  "language_info": {
   "codemirror_mode": {
    "name": "ipython",
    "version": 3
   },
   "file_extension": ".py",
   "mimetype": "text/x-python",
   "name": "python",
   "nbconvert_exporter": "python",
   "pygments_lexer": "ipython3",
   "version": "3.8.13"
  },
  "orig_nbformat": 4,
  "vscode": {
   "interpreter": {
    "hash": "cced04f9896402e18581d3905df3c80170ceda4eca718f56db7f826b54383078"
   }
  }
 },
 "nbformat": 4,
 "nbformat_minor": 2
}
