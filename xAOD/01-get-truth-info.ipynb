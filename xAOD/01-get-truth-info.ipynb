{
 "cells": [
  {
   "cell_type": "markdown",
   "metadata": {},
   "source": [
    "# Getting truth Info\n",
    "\n",
    "Small demo script that grab some simple truth info"
   ]
  },
  {
   "cell_type": "code",
   "execution_count": 1,
   "metadata": {},
   "outputs": [],
   "source": [
    "rucio_name = \"rucio://mc16_13TeV:mc16_13TeV.361022.Pythia8EvtGen_A14NNPDF23LO_jetjet_JZ2W.deriv.DAOD_EXOT15.e3668_s3126_r9364_r9315_p4696?files=20\""
   ]
  },
  {
   "attachments": {},
   "cell_type": "markdown",
   "metadata": {},
   "source": [
    "Make sure to get the type library installed here with:\n",
    "\n",
    "```bash\n",
    "pip install func_adl_servicex_xaodr21\n",
    "```"
   ]
  },
  {
   "cell_type": "code",
   "execution_count": 2,
   "metadata": {},
   "outputs": [],
   "source": [
    "from func_adl_servicex_xaodr21 import SXDSAtlasxAODR21\n",
    "ds = SXDSAtlasxAODR21(rucio_name)"
   ]
  },
  {
   "attachments": {},
   "cell_type": "markdown",
   "metadata": {},
   "source": [
    "Do the query here"
   ]
  },
  {
   "cell_type": "code",
   "execution_count": 3,
   "metadata": {},
   "outputs": [
    {
     "name": "stderr",
     "output_type": "stream",
     "text": [
      "DEBUG:servicex.servicex_utils:09ba03684a5ba6adb8476ecfc669dd6c93024a42 - processing request\n",
      "DEBUG:servicex.servicex:JSON to be sent to servicex: {'selection': \"(call Select (call MetaData (call MetaData (call MetaData (call MetaData (call SelectMany (call MetaData (call EventDataset 'bogus.root') (dict (list 'metadata_type' 'name' 'include_files' 'container_type' 'element_type' 'contains_collection' 'link_libraries') (list 'add_atlas_event_collection_info' 'TruthParticles' (list 'xAODTruth/TruthParticleContainer.h') 'DataVector<xAOD::TruthParticle_v1>' 'xAOD::TruthParticle_v1' True (list 'xAODTruth')))) (lambda (list e) (call (attr e 'TruthParticles') 'TruthParticles'))) (dict (list 'metadata_type' 'type_string' 'method_name' 'return_type') (list 'add_method_type_info' 'xAOD::TruthParticle_v1' 'pt' 'double'))) (dict (list 'metadata_type' 'name' 'body_includes') (list 'inject_code' 'xAODTruth/versions/TruthParticle_v1.h' (list 'xAODTruth/versions/TruthParticle_v1.h')))) (dict (list 'metadata_type' 'type_string' 'method_name' 'return_type') (list 'add_method_type_info' 'xAOD::TruthParticle_v1' 'pdgId' 'int'))) (dict (list 'metadata_type' 'name' 'body_includes') (list 'inject_code' 'xAODTruth/versions/TruthParticle_v1.h' (list 'xAODTruth/versions/TruthParticle_v1.h')))) (lambda (list tp) (dict (list 'pt' 'pdgId') (list (/ (call (attr tp 'pt')) 1000.0) (call abs (call (attr tp 'pdgId')))))))\", 'result-destination': 'object-store', 'result-format': 'root-file', 'chunk-size': '1000', 'workers': '20', 'did': 'rucio://mc16_13TeV:mc16_13TeV.361022.Pythia8EvtGen_A14NNPDF23LO_jetjet_JZ2W.deriv.DAOD_EXOT15.e3668_s3126_r9364_r9315_p4696?files=20'}\n",
      "DEBUG:servicex.minio_adaptor:Using the request-specific minio_adaptor\n",
      "DEBUG:servicex.servicex_adaptor:Status response for 4eda1b9c-ecc3-4099-a20b-0e96f694b14d: {'files-processed': 0, 'files-remaining': None, 'files-skipped': 0, 'finish-time': None, 'request-id': '4eda1b9c-ecc3-4099-a20b-0e96f694b14d', 'stats': None, 'status': 'Submitted', 'submit-time': '2023-02-07T18:45:51.765888Z'}\n"
     ]
    },
    {
     "data": {
      "application/vnd.jupyter.widget-view+json": {
       "model_id": "6d542818ddaf4e90a08d3cf1917e2fe9",
       "version_major": 2,
       "version_minor": 0
      },
      "text/plain": [
       "rucio://mc16_13TeV:m...:   0%|          | 0/9000000000.0 [00:00]"
      ]
     },
     "metadata": {},
     "output_type": "display_data"
    },
    {
     "data": {
      "application/vnd.jupyter.widget-view+json": {
       "model_id": "00b0b33e2b7f451899b11e3e57b603e7",
       "version_major": 2,
       "version_minor": 0
      },
      "text/plain": [
       "        rucio://mc16_13TeV:m... Downloaded:   0%|          | 0/9000000000.0 [00:00]"
      ]
     },
     "metadata": {},
     "output_type": "display_data"
    },
    {
     "name": "stderr",
     "output_type": "stream",
     "text": [
      "DEBUG:servicex.servicex_adaptor:Status response for 4eda1b9c-ecc3-4099-a20b-0e96f694b14d: {'files-processed': 0, 'files-remaining': None, 'files-skipped': 0, 'finish-time': None, 'request-id': '4eda1b9c-ecc3-4099-a20b-0e96f694b14d', 'stats': None, 'status': 'Submitted', 'submit-time': '2023-02-07T18:45:51.765888Z'}\n",
      "DEBUG:servicex.servicex_adaptor:Status response for 4eda1b9c-ecc3-4099-a20b-0e96f694b14d: {'files-processed': 0, 'files-remaining': 20, 'files-skipped': 0, 'finish-time': None, 'request-id': '4eda1b9c-ecc3-4099-a20b-0e96f694b14d', 'stats': None, 'status': 'Running', 'submit-time': '2023-02-07T18:45:51.765888Z'}\n",
      "DEBUG:servicex.servicex_adaptor:Status response for 4eda1b9c-ecc3-4099-a20b-0e96f694b14d: {'files-processed': 0, 'files-remaining': 20, 'files-skipped': 0, 'finish-time': None, 'request-id': '4eda1b9c-ecc3-4099-a20b-0e96f694b14d', 'stats': None, 'status': 'Running', 'submit-time': '2023-02-07T18:45:51.765888Z'}\n",
      "DEBUG:servicex.servicex_adaptor:Status response for 4eda1b9c-ecc3-4099-a20b-0e96f694b14d: {'files-processed': 0, 'files-remaining': 20, 'files-skipped': 0, 'finish-time': None, 'request-id': '4eda1b9c-ecc3-4099-a20b-0e96f694b14d', 'stats': None, 'status': 'Running', 'submit-time': '2023-02-07T18:45:51.765888Z'}\n",
      "DEBUG:servicex.servicex_adaptor:Status response for 4eda1b9c-ecc3-4099-a20b-0e96f694b14d: {'files-processed': 0, 'files-remaining': 20, 'files-skipped': 0, 'finish-time': None, 'request-id': '4eda1b9c-ecc3-4099-a20b-0e96f694b14d', 'stats': None, 'status': 'Running', 'submit-time': '2023-02-07T18:45:51.765888Z'}\n",
      "DEBUG:servicex.servicex_adaptor:Status response for 4eda1b9c-ecc3-4099-a20b-0e96f694b14d: {'files-processed': 0, 'files-remaining': 20, 'files-skipped': 0, 'finish-time': None, 'request-id': '4eda1b9c-ecc3-4099-a20b-0e96f694b14d', 'stats': None, 'status': 'Running', 'submit-time': '2023-02-07T18:45:51.765888Z'}\n",
      "DEBUG:servicex.servicex_adaptor:Status response for 4eda1b9c-ecc3-4099-a20b-0e96f694b14d: {'files-processed': 0, 'files-remaining': 20, 'files-skipped': 0, 'finish-time': None, 'request-id': '4eda1b9c-ecc3-4099-a20b-0e96f694b14d', 'stats': None, 'status': 'Running', 'submit-time': '2023-02-07T18:45:51.765888Z'}\n",
      "DEBUG:servicex.servicex_adaptor:Status response for 4eda1b9c-ecc3-4099-a20b-0e96f694b14d: {'files-processed': 0, 'files-remaining': 20, 'files-skipped': 0, 'finish-time': None, 'request-id': '4eda1b9c-ecc3-4099-a20b-0e96f694b14d', 'stats': None, 'status': 'Running', 'submit-time': '2023-02-07T18:45:51.765888Z'}\n",
      "DEBUG:servicex.servicex_adaptor:Status response for 4eda1b9c-ecc3-4099-a20b-0e96f694b14d: {'files-processed': 0, 'files-remaining': 20, 'files-skipped': 0, 'finish-time': None, 'request-id': '4eda1b9c-ecc3-4099-a20b-0e96f694b14d', 'stats': None, 'status': 'Running', 'submit-time': '2023-02-07T18:45:51.765888Z'}\n",
      "DEBUG:servicex.servicex_adaptor:Status response for 4eda1b9c-ecc3-4099-a20b-0e96f694b14d: {'files-processed': 0, 'files-remaining': 20, 'files-skipped': 0, 'finish-time': None, 'request-id': '4eda1b9c-ecc3-4099-a20b-0e96f694b14d', 'stats': None, 'status': 'Running', 'submit-time': '2023-02-07T18:45:51.765888Z'}\n",
      "DEBUG:servicex.servicex_adaptor:Status response for 4eda1b9c-ecc3-4099-a20b-0e96f694b14d: {'files-processed': 0, 'files-remaining': 20, 'files-skipped': 0, 'finish-time': None, 'request-id': '4eda1b9c-ecc3-4099-a20b-0e96f694b14d', 'stats': None, 'status': 'Running', 'submit-time': '2023-02-07T18:45:51.765888Z'}\n",
      "DEBUG:servicex.servicex_adaptor:Status response for 4eda1b9c-ecc3-4099-a20b-0e96f694b14d: {'files-processed': 0, 'files-remaining': 20, 'files-skipped': 0, 'finish-time': None, 'request-id': '4eda1b9c-ecc3-4099-a20b-0e96f694b14d', 'stats': None, 'status': 'Running', 'submit-time': '2023-02-07T18:45:51.765888Z'}\n",
      "DEBUG:servicex.servicex_adaptor:Status response for 4eda1b9c-ecc3-4099-a20b-0e96f694b14d: {'files-processed': 0, 'files-remaining': 20, 'files-skipped': 0, 'finish-time': None, 'request-id': '4eda1b9c-ecc3-4099-a20b-0e96f694b14d', 'stats': None, 'status': 'Running', 'submit-time': '2023-02-07T18:45:51.765888Z'}\n",
      "DEBUG:servicex.servicex_adaptor:Status response for 4eda1b9c-ecc3-4099-a20b-0e96f694b14d: {'files-processed': 0, 'files-remaining': 20, 'files-skipped': 0, 'finish-time': None, 'request-id': '4eda1b9c-ecc3-4099-a20b-0e96f694b14d', 'stats': None, 'status': 'Running', 'submit-time': '2023-02-07T18:45:51.765888Z'}\n",
      "DEBUG:servicex.servicex_adaptor:Status response for 4eda1b9c-ecc3-4099-a20b-0e96f694b14d: {'files-processed': 0, 'files-remaining': 20, 'files-skipped': 0, 'finish-time': None, 'request-id': '4eda1b9c-ecc3-4099-a20b-0e96f694b14d', 'stats': None, 'status': 'Running', 'submit-time': '2023-02-07T18:45:51.765888Z'}\n",
      "DEBUG:servicex.servicex_adaptor:Status response for 4eda1b9c-ecc3-4099-a20b-0e96f694b14d: {'files-processed': 0, 'files-remaining': 20, 'files-skipped': 0, 'finish-time': None, 'request-id': '4eda1b9c-ecc3-4099-a20b-0e96f694b14d', 'stats': None, 'status': 'Running', 'submit-time': '2023-02-07T18:45:51.765888Z'}\n",
      "DEBUG:servicex.servicex_adaptor:Status response for 4eda1b9c-ecc3-4099-a20b-0e96f694b14d: {'files-processed': 0, 'files-remaining': 20, 'files-skipped': 0, 'finish-time': None, 'request-id': '4eda1b9c-ecc3-4099-a20b-0e96f694b14d', 'stats': None, 'status': 'Running', 'submit-time': '2023-02-07T18:45:51.765888Z'}\n",
      "DEBUG:servicex.servicex_adaptor:Status response for 4eda1b9c-ecc3-4099-a20b-0e96f694b14d: {'files-processed': 0, 'files-remaining': 20, 'files-skipped': 0, 'finish-time': None, 'request-id': '4eda1b9c-ecc3-4099-a20b-0e96f694b14d', 'stats': None, 'status': 'Running', 'submit-time': '2023-02-07T18:45:51.765888Z'}\n",
      "DEBUG:servicex.servicex_adaptor:Status response for 4eda1b9c-ecc3-4099-a20b-0e96f694b14d: {'files-processed': 0, 'files-remaining': 20, 'files-skipped': 0, 'finish-time': None, 'request-id': '4eda1b9c-ecc3-4099-a20b-0e96f694b14d', 'stats': None, 'status': 'Running', 'submit-time': '2023-02-07T18:45:51.765888Z'}\n",
      "DEBUG:servicex.servicex_adaptor:Status response for 4eda1b9c-ecc3-4099-a20b-0e96f694b14d: {'files-processed': 0, 'files-remaining': 18, 'files-skipped': 2, 'finish-time': None, 'request-id': '4eda1b9c-ecc3-4099-a20b-0e96f694b14d', 'stats': {'avg-rate': 0.0, 'avg-time': 38.5, 'max-time': 39, 'min-time': 38, 'total-bytes': 0, 'total-events': 0, 'total-messages': 0, 'total-time': 77}, 'status': 'Running', 'submit-time': '2023-02-07T18:45:51.765888Z'}\n",
      "INFO:servicex.servicex:Running servicex query for 4eda1b9c-ecc3-4099-a20b-0e96f694b14d took 0:01:46.813000 (no files downloaded)\n",
      "INFO:servicex.servicex:Running servicex query for 4eda1b9c-ecc3-4099-a20b-0e96f694b14d took 0:01:46.813000\n",
      "WARNING:servicex.servicex_adaptor:Transform 4eda1b9c-ecc3-4099-a20b-0e96f694b14d had 0 errors:\n",
      "DEBUG:servicex.servicex_utils:09ba03684a5ba6adb8476ecfc669dd6c93024a42 - done processing request\n"
     ]
    },
    {
     "name": "stdout",
     "output_type": "stream",
     "text": [
      "Unexpected exception formatting exception. Falling back to standard exception\n"
     ]
    },
    {
     "name": "stderr",
     "output_type": "stream",
     "text": [
      "Traceback (most recent call last):\n",
      "  File \"c:\\Users\\gordo\\Code\\iris-hep\\func-adl-servicex-demos\\.venv\\lib\\site-packages\\servicex\\servicex.py\", line 831, in _get_files\n",
      "    async for r in stream_local_files:\n",
      "  File \"c:\\Users\\gordo\\Code\\iris-hep\\func-adl-servicex-demos\\.venv\\lib\\site-packages\\servicex\\servicex.py\", line 967, in _get_files_from_servicex\n",
      "    async for info in stream_downloaded:\n",
      "  File \"c:\\Users\\gordo\\Code\\iris-hep\\func-adl-servicex-demos\\.venv\\lib\\site-packages\\servicex\\servicex.py\", line 933, in _download_a_file\n",
      "    async for f in stream:\n",
      "  File \"c:\\Users\\gordo\\Code\\iris-hep\\func-adl-servicex-demos\\.venv\\lib\\site-packages\\servicex\\servicex.py\", line 1025, in _get_minio_bucket_files_from_servicex\n",
      "    async for info in stream_new_object:\n",
      "  File \"c:\\Users\\gordo\\Code\\iris-hep\\func-adl-servicex-demos\\.venv\\lib\\site-packages\\servicex\\minio_adaptor.py\", line 224, in find_new_bucket_files\n",
      "    async for _ in update:\n",
      "  File \"c:\\Users\\gordo\\Code\\iris-hep\\func-adl-servicex-demos\\.venv\\lib\\site-packages\\servicex\\utils.py\", line 242, in stream_unique_updates_only\n",
      "    async for p in stream:\n",
      "  File \"c:\\Users\\gordo\\Code\\iris-hep\\func-adl-servicex-demos\\.venv\\lib\\site-packages\\servicex\\servicex_adaptor.py\", line 270, in trap_servicex_failures\n",
      "    raise ServiceXFailedFileTransform(\n",
      "servicex.utils.ServiceXFailedFileTransform: (ServiceXFailedFileTransform(...), 'ServiceX failed to transform 2 files - data incomplete (remaining: 18, processed: 0).')\n",
      "\n",
      "The above exception was the direct cause of the following exception:\n",
      "\n",
      "Traceback (most recent call last):\n",
      "  File \"c:\\Users\\gordo\\Code\\iris-hep\\func-adl-servicex-demos\\.venv\\lib\\site-packages\\IPython\\core\\interactiveshell.py\", line 3442, in run_code\n",
      "    exec(code_obj, self.user_global_ns, self.user_ns)\n",
      "  File \"C:\\Users\\gordo\\AppData\\Local\\Temp\\ipykernel_52984\\767790280.py\", line 12, in <module>\n",
      "    .value())\n",
      "  File \"c:\\Users\\gordo\\Code\\iris-hep\\func-adl-servicex-demos\\.venv\\lib\\site-packages\\make_it_sync\\func_wrapper.py\", line 63, in wrapped_call\n",
      "    return _sync_version_of_function(fn, *args, **kwargs)\n",
      "  File \"c:\\Users\\gordo\\Code\\iris-hep\\func-adl-servicex-demos\\.venv\\lib\\site-packages\\make_it_sync\\func_wrapper.py\", line 26, in _sync_version_of_function\n",
      "    return future.result()\n",
      "  File \"C:\\Users\\gordo\\appdata\\Local\\Programs\\Python\\Python310\\lib\\concurrent\\futures\\_base.py\", line 458, in result\n",
      "    return self.__get_result()\n",
      "  File \"C:\\Users\\gordo\\appdata\\Local\\Programs\\Python\\Python310\\lib\\concurrent\\futures\\_base.py\", line 403, in __get_result\n",
      "    raise self._exception\n",
      "  File \"C:\\Users\\gordo\\appdata\\Local\\Programs\\Python\\Python310\\lib\\concurrent\\futures\\thread.py\", line 58, in run\n",
      "    result = self.fn(*self.args, **self.kwargs)\n",
      "  File \"c:\\Users\\gordo\\Code\\iris-hep\\func-adl-servicex-demos\\.venv\\lib\\site-packages\\make_it_sync\\func_wrapper.py\", line 21, in get_data_wrapper\n",
      "    return loop.run_until_complete(fn(*args, **kwargs))\n",
      "  File \"C:\\Users\\gordo\\appdata\\Local\\Programs\\Python\\Python310\\lib\\asyncio\\base_events.py\", line 649, in run_until_complete\n",
      "    return future.result()\n",
      "  File \"c:\\Users\\gordo\\Code\\iris-hep\\func-adl-servicex-demos\\.venv\\lib\\site-packages\\func_adl\\object_stream.py\", line 404, in value_async\n",
      "    return await exe(remove_empty_metadata(self._q_ast), title)\n",
      "  File \"c:\\Users\\gordo\\Code\\iris-hep\\func-adl-servicex-demos\\.venv\\lib\\site-packages\\func_adl_servicex\\ServiceX.py\", line 252, in execute_result_async\n",
      "    result = await attr(q_str, title=title)\n",
      "  File \"c:\\Users\\gordo\\Code\\iris-hep\\func-adl-servicex-demos\\.venv\\lib\\site-packages\\servicex\\servicex_utils.py\", line 51, in cached_version_of_fn\n",
      "    result = await fn(*args, **kwargs)\n",
      "  File \"c:\\Users\\gordo\\Code\\iris-hep\\func-adl-servicex-demos\\.venv\\lib\\site-packages\\servicex\\servicex.py\", line 408, in get_data_awkward_async\n",
      "    await self._data_return(\n",
      "  File \"c:\\Users\\gordo\\Code\\iris-hep\\func-adl-servicex-demos\\.venv\\lib\\site-packages\\backoff\\_async.py\", line 151, in retry\n",
      "    ret = await target(*args, **kwargs)\n",
      "  File \"c:\\Users\\gordo\\Code\\iris-hep\\func-adl-servicex-demos\\.venv\\lib\\site-packages\\backoff\\_async.py\", line 151, in retry\n",
      "    ret = await target(*args, **kwargs)\n",
      "  File \"c:\\Users\\gordo\\Code\\iris-hep\\func-adl-servicex-demos\\.venv\\lib\\site-packages\\servicex\\servicex.py\", line 690, in _data_return\n",
      "    all_data = {\n",
      "  File \"c:\\Users\\gordo\\Code\\iris-hep\\func-adl-servicex-demos\\.venv\\lib\\site-packages\\servicex\\servicex.py\", line 690, in <dictcomp>\n",
      "    all_data = {\n",
      "  File \"c:\\Users\\gordo\\Code\\iris-hep\\func-adl-servicex-demos\\.venv\\lib\\site-packages\\servicex\\servicex.py\", line 733, in _stream_return\n",
      "    async for r in as_data:\n",
      "  File \"c:\\Users\\gordo\\Code\\iris-hep\\func-adl-servicex-demos\\.venv\\lib\\site-packages\\servicex\\servicex.py\", line 728, in <genexpr>\n",
      "    as_data = (\n",
      "  File \"c:\\Users\\gordo\\Code\\iris-hep\\func-adl-servicex-demos\\.venv\\lib\\site-packages\\servicex\\servicex.py\", line 768, in _stream_local_files\n",
      "    async for name, a_path in as_files:\n",
      "  File \"c:\\Users\\gordo\\Code\\iris-hep\\func-adl-servicex-demos\\.venv\\lib\\site-packages\\servicex\\servicex.py\", line 761, in <genexpr>\n",
      "    as_files = (\n",
      "  File \"c:\\Users\\gordo\\Code\\iris-hep\\func-adl-servicex-demos\\.venv\\lib\\site-packages\\servicex\\servicex.py\", line 867, in _get_files\n",
      "    raise ServiceXException(\n",
      "servicex.utils.ServiceXException: (ServiceXException(...), 'Failed to transform all files in 4eda1b9c-ecc3-4099-a20b-0e96f694b14d')\n",
      "\n",
      "During handling of the above exception, another exception occurred:\n",
      "\n",
      "Traceback (most recent call last):\n",
      "  File \"c:\\Users\\gordo\\Code\\iris-hep\\func-adl-servicex-demos\\.venv\\lib\\site-packages\\IPython\\core\\interactiveshell.py\", line 2057, in showtraceback\n",
      "    stb = self.InteractiveTB.structured_traceback(\n",
      "  File \"c:\\Users\\gordo\\Code\\iris-hep\\func-adl-servicex-demos\\.venv\\lib\\site-packages\\IPython\\core\\ultratb.py\", line 1118, in structured_traceback\n",
      "    return FormattedTB.structured_traceback(\n",
      "  File \"c:\\Users\\gordo\\Code\\iris-hep\\func-adl-servicex-demos\\.venv\\lib\\site-packages\\IPython\\core\\ultratb.py\", line 1012, in structured_traceback\n",
      "    return VerboseTB.structured_traceback(\n",
      "  File \"c:\\Users\\gordo\\Code\\iris-hep\\func-adl-servicex-demos\\.venv\\lib\\site-packages\\IPython\\core\\ultratb.py\", line 865, in structured_traceback\n",
      "    formatted_exception = self.format_exception_as_a_whole(etype, evalue, etb, number_of_lines_of_context,\n",
      "  File \"c:\\Users\\gordo\\Code\\iris-hep\\func-adl-servicex-demos\\.venv\\lib\\site-packages\\IPython\\core\\ultratb.py\", line 818, in format_exception_as_a_whole\n",
      "    frames.append(self.format_record(r))\n",
      "  File \"c:\\Users\\gordo\\Code\\iris-hep\\func-adl-servicex-demos\\.venv\\lib\\site-packages\\IPython\\core\\ultratb.py\", line 736, in format_record\n",
      "    result += ''.join(_format_traceback_lines(frame_info.lines, Colors, self.has_colors, lvals))\n",
      "  File \"c:\\Users\\gordo\\Code\\iris-hep\\func-adl-servicex-demos\\.venv\\lib\\site-packages\\stack_data\\utils.py\", line 144, in cached_property_wrapper\n",
      "    value = obj.__dict__[self.func.__name__] = self.func(obj)\n",
      "  File \"c:\\Users\\gordo\\Code\\iris-hep\\func-adl-servicex-demos\\.venv\\lib\\site-packages\\stack_data\\core.py\", line 756, in lines\n",
      "    lines = [Line(self, i) for i in piece]  # type: List[Line]\n",
      "  File \"c:\\Users\\gordo\\Code\\iris-hep\\func-adl-servicex-demos\\.venv\\lib\\site-packages\\stack_data\\core.py\", line 756, in <listcomp>\n",
      "    lines = [Line(self, i) for i in piece]  # type: List[Line]\n",
      "  File \"c:\\Users\\gordo\\Code\\iris-hep\\func-adl-servicex-demos\\.venv\\lib\\site-packages\\stack_data\\core.py\", line 276, in __init__\n",
      "    self.text = frame_info.source.lines[lineno - 1]  # type: str\n",
      "IndexError: list index out of range\n"
     ]
    }
   ],
   "source": [
    "# import logging\n",
    "# logging.basicConfig()\n",
    "# logging.getLogger(\"servicex\").setLevel(level=logging.DEBUG)\n",
    "\n",
    "all_particles = (ds\n",
    "                 .SelectMany(lambda e: e.TruthParticles(\"TruthParticles\"))\n",
    "                 .Select(lambda tp: {\n",
    "                         'pt': tp.pt() / 1000.0,\n",
    "                         'pdgId': abs(tp.pdgId()),\n",
    "                 })\n",
    "                 .AsAwkwardArray()\n",
    "                 .value())"
   ]
  },
  {
   "attachments": {},
   "cell_type": "markdown",
   "metadata": {},
   "source": [
    "And plot..."
   ]
  },
  {
   "cell_type": "code",
   "execution_count": 4,
   "metadata": {},
   "outputs": [
    {
     "ename": "ModuleNotFoundError",
     "evalue": "No module named 'matplotlib'",
     "output_type": "error",
     "traceback": [
      "\u001b[1;31m---------------------------------------------------------------------------\u001b[0m",
      "\u001b[1;31mModuleNotFoundError\u001b[0m                       Traceback (most recent call last)",
      "Cell \u001b[1;32mIn[4], line 1\u001b[0m\n\u001b[1;32m----> 1\u001b[0m \u001b[39mfrom\u001b[39;00m \u001b[39mmatplotlib\u001b[39;00m \u001b[39mimport\u001b[39;00m pyplot \u001b[39mas\u001b[39;00m plt\n\u001b[0;32m      3\u001b[0m plt\u001b[39m.\u001b[39mhist(all_particles\u001b[39m.\u001b[39mpt, bins\u001b[39m=\u001b[39m\u001b[39m100\u001b[39m, \u001b[39mrange\u001b[39m\u001b[39m=\u001b[39m(\u001b[39m0\u001b[39m, \u001b[39m30\u001b[39m))\n\u001b[0;32m      4\u001b[0m plt\u001b[39m.\u001b[39mxlabel(\u001b[39m'\u001b[39m\u001b[39mTruth Particle $p_T$ [GeV]\u001b[39m\u001b[39m'\u001b[39m)\n",
      "\u001b[1;31mModuleNotFoundError\u001b[0m: No module named 'matplotlib'"
     ]
    }
   ],
   "source": [
    "from matplotlib import pyplot as plt\n",
    "\n",
    "plt.hist(all_particles.pt, bins=100, range=(0, 30))\n",
    "plt.xlabel('Truth Particle $p_T$ [GeV]')\n",
    "plt.ylabel('Number of Particles')\n",
    "_ = plt.title(r'Truth Particle $p_T$ distribution for $Z\\rightarrow ee$ events')"
   ]
  },
  {
   "cell_type": "markdown",
   "metadata": {},
   "source": []
  }
 ],
 "metadata": {
  "kernelspec": {
   "display_name": ".venv",
   "language": "python",
   "name": "python3"
  },
  "language_info": {
   "codemirror_mode": {
    "name": "ipython",
    "version": 3
   },
   "file_extension": ".py",
   "mimetype": "text/x-python",
   "name": "python",
   "nbconvert_exporter": "python",
   "pygments_lexer": "ipython3",
   "version": "3.10.8"
  },
  "orig_nbformat": 4,
  "vscode": {
   "interpreter": {
    "hash": "b6f103715c17c09a903ef606a963cea5e396e70a28d07e822e1faf9bf60b59e5"
   }
  }
 },
 "nbformat": 4,
 "nbformat_minor": 2
}
