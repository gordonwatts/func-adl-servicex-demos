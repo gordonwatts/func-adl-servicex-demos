{
 "cells": [
  {
   "cell_type": "markdown",
   "metadata": {},
   "source": [
    "# Fetch Jets\n",
    "\n",
    "This is a very simple demo - which was reporting as not working in the wild. Here is the original:\n",
    "\n",
    "```python\n",
    "from servicex import ignore_cache\n",
    "from func_adl_servicex_xaodr21 import SXDSAtlasxAODR21\n",
    "\n",
    "ds = SXDSAtlasxAODR21('mc16_13TeV.361106.PowhegPythia8EvtGen_AZNLOCTEQ6L1_Zee.deriv.DAOD_PHYS.e3601_e5984_s3126_s3136_r10724_r10726_p4164', backend=\"xaod\")\n",
    "\n",
    "with ignore_cache():\n",
    "     jets = (ds\n",
    "             .SelectMany(lambda e: e.Jets())\n",
    "             .Where(lambda j: (j.pt() / 1000) > 30)\n",
    "             .Select(lambda j: j.pt() / 1000.0)\n",
    "             .AsAwkwardArray('JetPt')\n",
    "             .value())\n",
    "```"
   ]
  },
  {
   "cell_type": "code",
   "execution_count": 1,
   "metadata": {},
   "outputs": [],
   "source": [
    "from servicex import ignore_cache\n",
    "from func_adl_servicex_xaodr21 import SXDSAtlasxAODR21"
   ]
  },
  {
   "cell_type": "markdown",
   "metadata": {},
   "source": [
    "Get the dataset all configured.\n",
    "\n",
    "This is the first change - make sure we are going after the R21 backend, and a new dataset (see below)"
   ]
  },
  {
   "cell_type": "code",
   "execution_count": 2,
   "metadata": {},
   "outputs": [],
   "source": [
    "ds = SXDSAtlasxAODR21('mc16_13TeV.361106.PowhegPythia8EvtGen_AZNLOCTEQ6L1_Zee.deriv.DAOD_PHYS.e3601_s3126_r9364_p5313?files=1', backend=\"atlasr21\")"
   ]
  },
  {
   "cell_type": "markdown",
   "metadata": {},
   "source": [
    "Next, the query with the `ignore_cache` in place. Note that this takes a little time because calibrations are being run, which are *slow* (a file was taking about 3 minutes for me)."
   ]
  },
  {
   "cell_type": "code",
   "execution_count": 3,
   "metadata": {},
   "outputs": [
    {
     "data": {
      "application/vnd.jupyter.widget-view+json": {
       "model_id": "4746f9a626764a4784c0d883937fb609",
       "version_major": 2,
       "version_minor": 0
      },
      "text/plain": [
       "mc16_13TeV.361106.Po...:   0%|          | 0/9000000000.0 [00:00]"
      ]
     },
     "metadata": {},
     "output_type": "display_data"
    },
    {
     "data": {
      "application/vnd.jupyter.widget-view+json": {
       "model_id": "876b70a4787f47e7acaf0c5ce59f3888",
       "version_major": 2,
       "version_minor": 0
      },
      "text/plain": [
       "        mc16_13TeV.361106.Po... Downloaded:   0%|          | 0/9000000000.0 [00:00]"
      ]
     },
     "metadata": {},
     "output_type": "display_data"
    }
   ],
   "source": [
    "with ignore_cache():\n",
    "    jets = (ds\n",
    "            .SelectMany(lambda e: e.Jets())\n",
    "            .Where(lambda j: (j.pt() / 1000) > 30)\n",
    "            .Select(lambda j: j.pt() / 1000.0)\n",
    "            .AsAwkwardArray('JetPt')\n",
    "            .value())"
   ]
  },
  {
   "cell_type": "markdown",
   "metadata": {},
   "source": [
    "And the proof is in the plotting..."
   ]
  },
  {
   "cell_type": "code",
   "execution_count": 4,
   "metadata": {},
   "outputs": [
    {
     "data": {
      "image/png": "[encoded data removed]",
      "text/plain": [
       "<Figure size 640x480 with 1 Axes>"
      ]
     },
     "metadata": {},
     "output_type": "display_data"
    }
   ],
   "source": [
    "import matplotlib.pyplot as plt\n",
    "\n",
    "plt.hist(jets.JetPt, bins=100, range=(0, 100))\n",
    "plt.xlabel('Jet $p_T$ [GeV]')\n",
    "plt.show()"
   ]
  },
  {
   "cell_type": "markdown",
   "metadata": {},
   "source": [
    "## Problems Found\n",
    "\n",
    "I'm not 100% this is all the things that went wrong. But these are the things I faced. I did start from a virtual-env that hadn't been touched in months for this demo.\n",
    "\n",
    "### Wrong package versions\n",
    "\n",
    "I started this by using an old version of `func_adl_servicex` - the basic error that I think was at the root here was similar to what I was seeing. I ended up with the following packages:"
   ]
  },
  {
   "cell_type": "code",
   "execution_count": 5,
   "metadata": {},
   "outputs": [
    {
     "name": "stdout",
     "output_type": "stream",
     "text": [
      "Package                   Version\n",
      "------------------------- --------------\n",
      "aiofiles                  22.1.0\n",
      "aiohttp                   3.8.3\n",
      "aiosignal                 1.3.1\n",
      "aiosqlite                 0.18.0\n",
      "anyio                     3.6.2\n",
      "argon2-cffi               21.3.0\n",
      "argon2-cffi-bindings      21.2.0\n",
      "arrow                     1.2.3\n",
      "asttokens                 2.2.1\n",
      "async-timeout             4.0.2\n",
      "attrs                     22.2.0\n",
      "awkward                   1.10.2\n",
      "Babel                     2.11.0\n",
      "backcall                  0.2.0\n",
      "backoff                   2.2.1\n",
      "beautifulsoup4            4.11.2\n",
      "bleach                    6.0.0\n",
      "cachetools                5.3.0\n",
      "certifi                   2022.12.7\n",
      "cffi                      1.15.1\n",
      "charset-normalizer        2.1.1\n",
      "colorama                  0.4.6\n",
      "comm                      0.1.2\n",
      "configparser              5.3.0\n",
      "confuse                   1.3.0\n",
      "contourpy                 1.0.7\n",
      "cycler                    0.11.0\n",
      "debugpy                   1.6.6\n",
      "decorator                 5.1.1\n",
      "defusedxml                0.7.1\n",
      "executing                 1.2.0\n",
      "fastjsonschema            2.16.2\n",
      "fonttools                 4.38.0\n",
      "fqdn                      1.5.1\n",
      "frozenlist                1.3.3\n",
      "func-adl                  3.2.6\n",
      "func-adl-servicex         2.2\n",
      "func-adl-servicex-xaodr21 1.1.4.21.2.209\n",
      "google-auth               2.16.0\n",
      "idna                      2.10\n",
      "ipykernel                 6.21.1\n",
      "ipython                   8.9.0\n",
      "ipython-genutils          0.2.0\n",
      "ipywidgets                8.0.4\n",
      "isoduration               20.11.0\n",
      "jedi                      0.18.2\n",
      "Jinja2                    3.1.2\n",
      "json5                     0.9.11\n",
      "jsonpointer               2.3\n",
      "jsonschema                4.17.3\n",
      "jupyter_client            8.0.2\n",
      "jupyter_core              5.2.0\n",
      "jupyter-events            0.5.0\n",
      "jupyter_server            2.2.1\n",
      "jupyter_server_fileid     0.6.0\n",
      "jupyter_server_terminals  0.4.4\n",
      "jupyter_server_ydoc       0.6.1\n",
      "jupyter-ydoc              0.2.2\n",
      "jupyterlab                3.6.0\n",
      "jupyterlab-pygments       0.2.2\n",
      "jupyterlab_server         2.19.0\n",
      "jupyterlab-widgets        3.0.5\n",
      "kiwisolver                1.4.4\n",
      "lark-parser               0.12.0\n",
      "make-it-sync              1.0.0\n",
      "MarkupSafe                2.1.2\n",
      "matplotlib                3.8.0\n",
      "matplotlib-inline         0.1.6\n",
      "minio                     5.0.10\n",
      "mistune                   2.0.4\n",
      "multidict                 6.0.4\n",
      "nbclassic                 0.5.1\n",
      "nbclient                  0.7.2\n",
      "nbconvert                 7.2.9\n",
      "nbformat                  5.7.3\n",
      "nest-asyncio              1.5.6\n",
      "notebook                  6.5.2\n",
      "notebook_shim             0.2.2\n",
      "numpy                     1.24.1\n",
      "packaging                 23.0\n",
      "pandas                    1.5.3\n",
      "pandocfilters             1.5.0\n",
      "parso                     0.8.3\n",
      "pickleshare               0.7.5\n",
      "Pillow                    9.4.0\n",
      "pip                       23.2.1\n",
      "platformdirs              2.6.2\n",
      "prometheus-client         0.16.0\n",
      "prompt-toolkit            3.0.36\n",
      "psutil                    5.9.4\n",
      "pure-eval                 0.2.2\n",
      "pyarrow                   11.0.0\n",
      "pyasn1                    0.4.8\n",
      "pyasn1-modules            0.2.8\n",
      "pycparser                 2.21\n",
      "Pygments                  2.14.0\n",
      "pyparsing                 3.0.9\n",
      "pyrsistent                0.19.3\n",
      "python-dateutil           2.8.2\n",
      "python-json-logger        2.0.4\n",
      "pytz                      2022.7.1\n",
      "pywin32                   305\n",
      "pywinpty                  2.0.10\n",
      "PyYAML                    6.0\n",
      "pyzmq                     25.0.0\n",
      "qastle                    0.16.0\n",
      "requests                  2.28.2\n",
      "rfc3339-validator         0.1.4\n",
      "rfc3986-validator         0.1.1\n",
      "rsa                       4.9\n",
      "Send2Trash                1.8.0\n",
      "servicex                  2.6.2\n",
      "servicex-clients          1.3\n",
      "setuptools                63.2.0\n",
      "six                       1.16.0\n",
      "sniffio                   1.3.0\n",
      "soupsieve                 2.3.2.post1\n",
      "stack-data                0.6.2\n",
      "tcut-to-qastle            0.5\n",
      "terminado                 0.17.1\n",
      "tinycss2                  1.2.1\n",
      "tomli                     2.0.1\n",
      "tornado                   6.2\n",
      "tqdm                      4.64.1\n",
      "traitlets                 5.9.0\n",
      "uproot                    4.3.7\n",
      "uri-template              1.2.0\n",
      "urllib3                   1.26.14\n",
      "wcwidth                   0.2.6\n",
      "webcolors                 1.12\n",
      "webencodings              0.5.1\n",
      "websocket-client          1.5.0\n",
      "widgetsnbextension        4.0.5\n",
      "y-py                      0.5.5\n",
      "yarl                      1.8.2\n",
      "ypy-websocket             0.8.2\n"
     ]
    }
   ],
   "source": [
    "!pip list"
   ]
  },
  {
   "cell_type": "markdown",
   "metadata": {},
   "source": [
    "### Old `servicex.yaml` file\n",
    "\n",
    "I'm not 100% sure this is was causing a problem. But with the most up-to-date `servicex` package there is also a new way to talking to the modern backends. So, it is best to juts adopt this - so go to the dashboard and download the `servicex.yaml` file. You'll see lots of differences.\n",
    "\n",
    "```yaml\n",
    "api_endpoints:\n",
    "  - name: atlasr21\n",
    "    endpoint: https://servicex.af.uchicago.edu/\n",
    "    token: <token>\n",
    "    codegen: atlasr21\n",
    "    return_data: root-file\n",
    "  - name: atlasr22\n",
    "    endpoint: https://servicex.af.uchicago.edu/\n",
    "    token: <token>\n",
    "    codegen: atlasr22\n",
    "    return_data: root-file\n",
    "  - name: atlasxaod\n",
    "    endpoint: https://servicex.af.uchicago.edu/\n",
    "    token: <token>\n",
    "    codegen: atlasxaod\n",
    "    return_data: root-file\n",
    "  - name: cms\n",
    "    endpoint: https://servicex.af.uchicago.edu/\n",
    "    token: <token>\n",
    "    codegen: cms\n",
    "    return_data: root-file\n",
    "  - name: cmssw-5-3-32\n",
    "    endpoint: https://servicex.af.uchicago.edu/\n",
    "    token: <token>\n",
    "    codegen: cmssw-5-3-32\n",
    "    return_data: root-file\n",
    "  - name: python\n",
    "    endpoint: https://servicex.af.uchicago.edu/\n",
    "    token: <token>\n",
    "    codegen: python\n",
    "    return_data: root-file\n",
    "  - name: uproot\n",
    "    endpoint: https://servicex.af.uchicago.edu/\n",
    "    token: <token>\n",
    "    codegen: uproot\n",
    "    return_data: root-file\n",
    "\n",
    "```"
   ]
  },
  {
   "cell_type": "markdown",
   "metadata": {},
   "source": [
    "### Dataset\n",
    "\n",
    "Ok - this is a real bug in `servicex` - it just hung w/out reporting an error - but caused by this:\n",
    "\n",
    "```bash\n",
    "[gwatts@AMDOfficeCore .globus]$ rucio list-files mc16_13TeV.361106.PowhegPythia8EvtGen_AZNLOCTEQ6L1_Zee.deriv.DAOD_PHYS.e3601_e5984_s3126_s3136_r10724_r10726_p4164\n",
    "+--------------+--------+-----------+------------+----------+\n",
    "| SCOPE:NAME   | GUID   | ADLER32   | FILESIZE   | EVENTS   |\n",
    "|--------------+--------+-----------+------------+----------|\n",
    "+--------------+--------+-----------+------------+----------+\n",
    "Total files : 0\n",
    "Total size : 0.000 B\n",
    "[gwatts@AMDOfficeCore .globus]$\n",
    "```\n",
    "\n",
    "So - we need a new dataset! This is a problem with a number of our demos - the datasets keep getting obsoleted (ATLAS is fairly aggressive about this). I did find one:\n",
    "\n",
    "```bash\n",
    "[gwatts@AMDOfficeCore .globus]$ rucio list-files mc16_13TeV.361106.PowhegPythia8EvtGen_AZNLOCTEQ6L1_Zee.deriv.DAOD_PHYS.e3601_s3126_r9364_p5313\n",
    "+---------------------------------------------------+--------------------------------------+-------------+------------+----------+\n",
    "| SCOPE:NAME                                        | GUID                                 | ADLER32     | FILESIZE   | EVENTS   |\n",
    "|---------------------------------------------------+--------------------------------------+-------------+------------+----------|\n",
    "| mc16_13TeV:DAOD_PHYS.30889941._000001.pool.root.1 | CF95C46F-D96F-EE49-8D7A-9935D9BAC9C4 | ad:d6581dd8 | 461.832 MB | 20000    |\n",
    "| mc16_13TeV:DAOD_PHYS.30889941._000002.pool.root.1 | 898A9A01-69D6-F54B-AFC4-1471FBE8E989 | ad:d210a626 | 462.689 MB | 20000    |\n",
    "| mc16_13TeV:DAOD_PHYS.30889941._000003.pool.root.1 | F2945F8B-975B-A749-AF18-FE28F99E141E | ad:753e1801 | 462.406 MB | 20000    |\n",
    "| mc16_13TeV:DAOD_PHYS.30889941._000004.pool.root.1 | E820BB15-D863-8748-B436-A09415A6044A | ad:f0dcffdf | 462.843 MB | 20000    |\n",
    "| mc16_13TeV:DAOD_PHYS.30889941._000005.pool.root.1 | 1B8DF356-35C5-944B-B4E4-D801FBB1D601 | ad:6c76896f | 463.842 MB | 20000    |\n",
    "| mc16_13TeV:DAOD_PHYS.30889941._000006.pool.root.1 | 69585978-246E-904E-A518-32D7204D7A74 | ad:14c43f5b | 1.389 GB   | 60000    |\n",
    "| mc16_13TeV:DAOD_PHYS.30889941._000007.pool.root.1 | 5237823F-194A-734D-BB5A-7916810042F1 | ad:b66e8966 | 1.389 GB   | 60000    |\n",
    "| mc16_13TeV:DAOD_PHYS.30889941._000008.pool.root.1 | 0CAB9EC1-23E8-7E45-96FC-4BD01BC4CCDD | ad:e0c98c67 | 1.382 GB   | 60000    |\n",
    "| mc16_13TeV:DAOD_PHYS.30889941._000009.pool.root.1 | 624E9A9D-CE17-4741-AD8F-934E2DF0E3B4 | ad:f03f30e1 | 1.388 GB   | 60000    |\n",
    "| mc16_13TeV:DAOD_PHYS.30889941._000010.pool.root.1 | 586DA5F0-F1E5-FE49-AE49-B149623F0B12 | ad:6c1e55ce | 1.384 GB   | 60000    |\n",
    "...\n",
    "| mc16_13TeV:DAOD_PHYS.30889856._000281.pool.root.1 | 7CAE7274-5345-7E45-ACFD-717079B32E01 | ad:302beca3 | 1.155 GB   | 50000    |\n",
    "| mc16_13TeV:DAOD_PHYS.30889856._000283.pool.root.1 | AE38B795-EDDE-9C45-AA07-6EB1805C80F7 | ad:e4c2d154 | 601.096 MB | 26000    |\n",
    "| mc16_13TeV:DAOD_PHYS.30889856._000284.pool.root.1 | FD6248BE-D582-654E-B461-270E67CE9930 | ad:7bdf0ef2 | 232.683 MB | 10000    |\n",
    "+---------------------------------------------------+--------------------------------------+-------------+------------+----------+\n",
    "Total files : 5546\n",
    "Total size : 7.159 TB\n",
    "Total events : 309798150\n",
    "```\n",
    "\n",
    "Note it is huge - which is why for this demo I used the `?files=1` argument for the test."
   ]
  },
  {
   "cell_type": "markdown",
   "metadata": {},
   "source": []
  }
 ],
 "metadata": {
  "kernelspec": {
   "display_name": ".venv",
   "language": "python",
   "name": "python3"
  },
  "language_info": {
   "codemirror_mode": {
    "name": "ipython",
    "version": 3
   },
   "file_extension": ".py",
   "mimetype": "text/x-python",
   "name": "python",
   "nbconvert_exporter": "python",
   "pygments_lexer": "ipython3",
   "version": "3.10.8"
  },
  "orig_nbformat": 4
 },
 "nbformat": 4,
 "nbformat_minor": 2
}
