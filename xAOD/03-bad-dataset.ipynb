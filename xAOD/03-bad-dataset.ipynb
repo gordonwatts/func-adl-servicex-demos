{
 "cells": [
  {
   "cell_type": "markdown",
   "metadata": {},
   "source": [
    "# Bad Dataset Name\n",
    "\n",
    "What do things look like when you try to access an invalid `rucio://dataset`` name?"
   ]
  },
  {
   "cell_type": "code",
   "execution_count": 1,
   "metadata": {},
   "outputs": [],
   "source": [
    "from servicex import ignore_cache\n",
    "from func_adl_servicex_xaodr21 import SXDSAtlasxAODR21"
   ]
  },
  {
   "cell_type": "markdown",
   "metadata": {},
   "source": [
    "Get the dataset all configured.\n",
    "\n",
    "This is the first change - make sure we are going after the R21 backend, and a new dataset (see below)"
   ]
  },
  {
   "cell_type": "code",
   "execution_count": 2,
   "metadata": {},
   "outputs": [],
   "source": [
    "ds = SXDSAtlasxAODR21('mc16_13TeV.361106.forky.fork.deriv.e3601_s3126_r9364_p5313?files=1', backend=\"atlasr21\")"
   ]
  },
  {
   "cell_type": "markdown",
   "metadata": {},
   "source": [
    "Next, the query pretending everything is ok!"
   ]
  },
  {
   "cell_type": "code",
   "execution_count": 3,
   "metadata": {},
   "outputs": [
    {
     "data": {
      "application/vnd.jupyter.widget-view+json": {
       "model_id": "7e072acc9c804cec9852b62045f9722b",
       "version_major": 2,
       "version_minor": 0
      },
      "text/plain": [
       "mc16_13TeV.361106.fo...:   0%|          | 0/9000000000.0 [00:00]"
      ]
     },
     "metadata": {},
     "output_type": "display_data"
    },
    {
     "data": {
      "application/vnd.jupyter.widget-view+json": {
       "model_id": "41736208bd024f98a4d4877e13293d13",
       "version_major": 2,
       "version_minor": 0
      },
      "text/plain": [
       "        mc16_13TeV.361106.fo... Downloaded:   0%|          | 0/9000000000.0 [00:00]"
      ]
     },
     "metadata": {},
     "output_type": "display_data"
    }
   ],
   "source": [
    "with ignore_cache():\n",
    "        jets = (ds\n",
    "                .SelectMany(lambda e: e.Jets())\n",
    "                .Where(lambda j: (j.pt() / 1000) > 30)\n",
    "                .Select(lambda j: j.pt() / 1000.0)\n",
    "                .AsAwkwardArray('JetPt')\n",
    "                .value())"
   ]
  },
  {
   "cell_type": "markdown",
   "metadata": {},
   "source": [
    "## Problems\n",
    "\n",
    "Currently the above request hangs! Despite the logs claiming that the request has shut down and there are no errors. In fact, this looks like an identical behavior to there being no files in the dataset."
   ]
  }
 ],
 "metadata": {
  "kernelspec": {
   "display_name": ".venv",
   "language": "python",
   "name": "python3"
  },
  "language_info": {
   "codemirror_mode": {
    "name": "ipython",
    "version": 3
   },
   "file_extension": ".py",
   "mimetype": "text/x-python",
   "name": "python",
   "nbconvert_exporter": "python",
   "pygments_lexer": "ipython3",
   "version": "3.10.8"
  },
  "orig_nbformat": 4
 },
 "nbformat": 4,
 "nbformat_minor": 2
}
