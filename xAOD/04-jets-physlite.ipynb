{
 "cells": [
  {
   "cell_type": "markdown",
   "metadata": {},
   "source": [
    "# PHYSLITE Jets\n",
    "\n",
    "A nice thing about PHYSLITE the data is written with corrections - so even when you access them with `EventLoop` it can be done very fast (applying corrections is amazingly expensive)."
   ]
  },
  {
   "cell_type": "markdown",
   "metadata": {},
   "source": [
    "## Using the ServiceX Backend"
   ]
  },
  {
   "cell_type": "code",
   "execution_count": null,
   "metadata": {},
   "outputs": [],
   "source": [
    "from servicex import ignore_cache\n",
    "from func_adl_servicex_xaodr22 import calib_tools, SXDSAtlasxAODR22"
   ]
  },
  {
   "cell_type": "code",
   "execution_count": null,
   "metadata": {},
   "outputs": [],
   "source": [
    "ds = SXDSAtlasxAODR22('mc23_13p6TeV.601237.PhPy8EG_A14_ttbar_hdamp258p75_allhad.deriv.DAOD_PHYSLITE.e8514_e8528_s4159_s4114_r14799_r14811_p5855?files=1', backend=\"atlasr22\")\n",
    "ds = calib_tools.query_update(\n",
    "    ds, calib_config=calib_tools.default_config(\"PHYSLITE\")\n",
    ")"
   ]
  },
  {
   "cell_type": "code",
   "execution_count": null,
   "metadata": {},
   "outputs": [],
   "source": [
    "good_jets = ds.Select(\n",
    "    lambda e: {\n",
    "        \"run\": e.EventInfo(\"EventInfo\").runNumber(),\n",
    "        \"event\": e.EventInfo(\"EventInfo\").eventNumber(),\n",
    "        \"good_jets\": e.Jets()\n",
    "                     .Where(lambda j: (j.pt() / 1000 > 25.0) and (abs(j.eta()) < 2.5)),\n",
    "    }\n",
    ")"
   ]
  },
  {
   "cell_type": "code",
   "execution_count": null,
   "metadata": {},
   "outputs": [],
   "source": [
    "jet_pt = good_jets.Select(lambda e: {\n",
    "    \"run\": e.run,\n",
    "    \"event\": e.event,\n",
    "    \"pt\": e.good_jets.Select(lambda ele: ele.pt() / 1000.0),\n",
    "})"
   ]
  },
  {
   "cell_type": "code",
   "execution_count": null,
   "metadata": {},
   "outputs": [],
   "source": [
    "jet_dask_data = jet_pt.value()"
   ]
  },
  {
   "cell_type": "markdown",
   "metadata": {},
   "source": [
    "## Using a local Run\n",
    "\n",
    "A few things:\n",
    "\n",
    "* `docker` must be installed locally\n",
    "* `docker` must be running! You'll get a very odd error from `docker` that isn't indicative that it isn't running if it isn't. And this error won't happen until you actually try to `value()` your expression.\n",
    "\n",
    "This file was made local using the following `rucio`:\n",
    "\n",
    "```python\n",
    "\n",
    "```\n"
   ]
  },
  {
   "cell_type": "code",
   "execution_count": 1,
   "metadata": {},
   "outputs": [
    {
     "name": "stdout",
     "output_type": "stream",
     "text": [
      "22.2.113\n"
     ]
    }
   ],
   "source": [
    "from func_adl_servicex import SXLocalxAOD\n",
    "from func_adl_servicex_xaodr22.event_collection import Event\n",
    "from func_adl_servicex_xaodr22 import atlas_release, calib_tools\n",
    "print (atlas_release)\n",
    "\n",
    "from pathlib import Path\n",
    "import awkward as ak\n",
    "import matplotlib.pyplot as plt"
   ]
  },
  {
   "cell_type": "code",
   "execution_count": 2,
   "metadata": {},
   "outputs": [],
   "source": [
    "class xAODLocalTyped(SXLocalxAOD[Event]):\n",
    "    def __init__(self, file_path: Path):\n",
    "        super().__init__(\n",
    "            file_path,\n",
    "            item_type=Event,\n",
    "            docker_image=\"gitlab-registry.cern.ch/atlas/athena/analysisbase\",\n",
    "            docker_tag=atlas_release,\n",
    "        )\n"
   ]
  },
  {
   "cell_type": "code",
   "execution_count": 3,
   "metadata": {},
   "outputs": [],
   "source": [
    "dataset_path = Path(r\"C:\\Users\\gordo\\Code\\atlas\\data\\R24\\601237.PhPy8EG_A14_ttbar_hdamp258p75_allhad_PHYSLITE\\DAOD_PHYSLITE.35040212._000001.pool.root.1\")\n",
    "assert dataset_path.exists()"
   ]
  },
  {
   "cell_type": "markdown",
   "metadata": {},
   "source": [
    "With that hand-coded infrastructure out of the way, we can now operate on the local file as if it was a normal SX dataset.\n",
    "\n",
    "* Ignore the backend warnings with the next line - there really isn't a backend involved for the local running."
   ]
  },
  {
   "cell_type": "code",
   "execution_count": 4,
   "metadata": {},
   "outputs": [
    {
     "name": "stderr",
     "output_type": "stream",
     "text": [
      "Found backend type matching \"xaod\". Matching by type is deprecated. Please switch to using the \"name\" keyword in your servicex.yaml file.\n",
      "Found backend type matching \"xaod\". Matching by type is deprecated. Please switch to using the \"name\" keyword in your servicex.yaml file.\n"
     ]
    }
   ],
   "source": [
    "ds = xAODLocalTyped(dataset_path)\n",
    "ds = calib_tools.query_update(\n",
    "    ds, calib_config=calib_tools.default_config(\"PHYSLITE\")\n",
    ")"
   ]
  },
  {
   "cell_type": "code",
   "execution_count": 5,
   "metadata": {},
   "outputs": [],
   "source": [
    "good_jets = ds.Select(\n",
    "    lambda e: {\n",
    "        \"run\": e.EventInfo(\"EventInfo\").runNumber(),\n",
    "        \"event\": e.EventInfo(\"EventInfo\").eventNumber(),\n",
    "        \"good_jets\": e.Jets()\n",
    "                     .Where(lambda j: (j.pt() / 1000 > 25.0) and (abs(j.eta()) < 2.5)),\n",
    "    }\n",
    ")"
   ]
  },
  {
   "cell_type": "code",
   "execution_count": 10,
   "metadata": {},
   "outputs": [],
   "source": [
    "jet_pt = good_jets.Select(lambda e: {\n",
    "    \"run\": e.run,\n",
    "    \"event\": e.event,\n",
    "    \"pt\": e.good_jets.Select(lambda ele: ele.pt() / 1000.0),\n",
    "}).AsAwkwardArray()"
   ]
  },
  {
   "cell_type": "code",
   "execution_count": 14,
   "metadata": {},
   "outputs": [],
   "source": [
    "jet_data_dask = jet_pt.value()"
   ]
  },
  {
   "cell_type": "code",
   "execution_count": 15,
   "metadata": {},
   "outputs": [
    {
     "data": {
      "text/html": [
       "<pre>[[67.6, 61.3, 52.3, 32.2],\n",
       " [97.4, 55.6, 56, 54.2, 28.2],\n",
       " [686, 225, 235, 151, 149, 134, 47.1, 25.2],\n",
       " [151, 92.7, 59.5, 46.7],\n",
       " [103, 70.1, 57.5, 59.5, 45.1, 35.9, 37.1],\n",
       " [217, 190, 157, 131, 137, 84.7, 86.7, 38.7],\n",
       " [154, 123, 98.9, 63.8, 61.7],\n",
       " [59.7, 43.7, 31.9, 27.6, 26.9],\n",
       " [145, 132, 74],\n",
       " [82.9, 82.3, 59.7, 57.9, 33.3, 25.8, 26],\n",
       " ...,\n",
       " [117, 84.3, 62, 42.1, 27.9],\n",
       " [88.1, 73.3, 36.2, 33.5],\n",
       " [98.1, 84.5, 86.8, 77.9, 30.1],\n",
       " [41.8],\n",
       " [82.5, 61.8, 48.3, 28.3, 25.4],\n",
       " [177, 136, 97.1, 78, 38.3, 35.9, 26],\n",
       " [89.7, 78.3, 35.8, 27.7, 25.9],\n",
       " [287, 234, 80.5, 65.1, 49.2, 45.2, 37.2, 35.9],\n",
       " [86.1, 81.9, 66.1, 33.7, 35.3, 27.6, 25.2]]\n",
       "------------------------------------------------\n",
       "type: 10000 * var * float64</pre>"
      ],
      "text/plain": [
       "<Array [[67.6, 61.3, 52.3, 32.2], ..., [...]] type='10000 * var * float64'>"
      ]
     },
     "execution_count": 15,
     "metadata": {},
     "output_type": "execute_result"
    }
   ],
   "source": [
    "jet_data_dask.pt.compute()"
   ]
  },
  {
   "cell_type": "code",
   "execution_count": 16,
   "metadata": {},
   "outputs": [
    {
     "data": {
      "image/png": "[encoded data removed]",
      "text/plain": [
       "<Figure size 640x480 with 1 Axes>"
      ]
     },
     "metadata": {},
     "output_type": "display_data"
    }
   ],
   "source": [
    "plt.hist(ak.flatten(jet_data_dask.pt).compute(), bins=100, range=(0, 250))\n",
    "plt.xlabel(\"$p_T$ [GeV]\")\n",
    "plt.show()"
   ]
  },
  {
   "cell_type": "code",
   "execution_count": 17,
   "metadata": {},
   "outputs": [],
   "source": [
    "jets_count = ak.count(jet_data_dask.pt, axis=-1).compute()"
   ]
  },
  {
   "cell_type": "code",
   "execution_count": 18,
   "metadata": {},
   "outputs": [
    {
     "data": {
      "image/png": "[encoded data removed]",
      "text/plain": [
       "<Figure size 640x480 with 1 Axes>"
      ]
     },
     "metadata": {},
     "output_type": "display_data"
    }
   ],
   "source": [
    "plt.hist(jets_count, bins=20, range=(0, 20))\n",
    "plt.xlabel(\"$N_{Jets}$\")\n",
    "plt.show()"
   ]
  },
  {
   "cell_type": "code",
   "execution_count": null,
   "metadata": {},
   "outputs": [],
   "source": []
  }
 ],
 "metadata": {
  "kernelspec": {
   "display_name": ".venv",
   "language": "python",
   "name": "python3"
  },
  "language_info": {
   "codemirror_mode": {
    "name": "ipython",
    "version": 3
   },
   "file_extension": ".py",
   "mimetype": "text/x-python",
   "name": "python",
   "nbconvert_exporter": "python",
   "pygments_lexer": "ipython3",
   "version": "3.10.8"
  }
 },
 "nbformat": 4,
 "nbformat_minor": 2
}
