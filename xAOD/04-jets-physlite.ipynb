{
 "cells": [
  {
   "cell_type": "markdown",
   "metadata": {},
   "source": [
    "# PHYSLITE Jets\n",
    "\n",
    "A nice thing about PHYSLITE the data is written with corrections - so even when you access them with `EventLoop` it can be done very fast (applying corrections is amazingly expensive)."
   ]
  },
  {
   "cell_type": "markdown",
   "metadata": {},
   "source": [
    "## Using the ServiceX Backend"
   ]
  },
  {
   "cell_type": "code",
   "execution_count": null,
   "metadata": {},
   "outputs": [],
   "source": [
    "from servicex import ignore_cache\n",
    "from func_adl_servicex_xaodr22 import calib_tools, SXDSAtlasxAODR22"
   ]
  },
  {
   "cell_type": "code",
   "execution_count": null,
   "metadata": {},
   "outputs": [],
   "source": [
    "ds = SXDSAtlasxAODR22('mc23_13p6TeV.601237.PhPy8EG_A14_ttbar_hdamp258p75_allhad.deriv.DAOD_PHYSLITE.e8514_e8528_s4159_s4114_r14799_r14811_p5855?files=1', backend=\"atlasr22\")\n",
    "ds = calib_tools.query_update(\n",
    "    ds, calib_config=calib_tools.default_config(\"PHYSLITE\")\n",
    ")"
   ]
  },
  {
   "cell_type": "code",
   "execution_count": null,
   "metadata": {},
   "outputs": [],
   "source": [
    "jets = (ds\n",
    "        .Select(lambda e: e.Jets())\n",
    "        .Select(lambda jets: jets.Where(lambda j: (j.pt() / 1000) > 30))\n",
    "        .Select(lambda jets: jets.Select(lambda j: j.pt() / 1000.0))\n",
    "        .AsAwkwardArray('JetPt')\n",
    "        .value())"
   ]
  },
  {
   "cell_type": "markdown",
   "metadata": {},
   "source": [
    "## Using a local Run\n",
    "\n",
    "A few things:\n",
    "\n",
    "* `docker` must be installed locally\n",
    "* `docker` must be running! You'll get a very odd error from `docker` that isn't indicative that it isn't running if it isn't. And this error won't happen until you actually try to `value()` your expression.\n",
    "\n",
    "This file was made local using the following `rucio`:\n",
    "\n",
    "```python\n",
    "\n",
    "```\n"
   ]
  },
  {
   "cell_type": "code",
   "execution_count": 1,
   "metadata": {},
   "outputs": [
    {
     "name": "stdout",
     "output_type": "stream",
     "text": [
      "22.2.113\n"
     ]
    }
   ],
   "source": [
    "from func_adl_servicex import SXLocalxAOD\n",
    "from func_adl_servicex_xaodr22.event_collection import Event\n",
    "from func_adl_servicex_xaodr22 import atlas_release, calib_tools\n",
    "print (atlas_release)\n",
    "\n",
    "from pathlib import Path\n",
    "import awkward as ak\n",
    "import matplotlib.pyplot as plt"
   ]
  },
  {
   "cell_type": "code",
   "execution_count": 3,
   "metadata": {},
   "outputs": [],
   "source": [
    "class xAODLocalTyped(SXLocalxAOD[Event]):\n",
    "    def __init__(self, file_path: Path):\n",
    "        super().__init__(\n",
    "            file_path,\n",
    "            item_type=Event,\n",
    "            docker_image=\"gitlab-registry.cern.ch/atlas/athena/analysisbase\",\n",
    "            docker_tag=atlas_release,\n",
    "        )\n"
   ]
  },
  {
   "cell_type": "code",
   "execution_count": 4,
   "metadata": {},
   "outputs": [],
   "source": [
    "dataset_path = Path(r\"C:\\Users\\gordo\\Code\\atlas\\data\\R24\\601237.PhPy8EG_A14_ttbar_hdamp258p75_allhad_PHYSLITE\\DAOD_PHYSLITE.35040212._000001.pool.root.1\")\n",
    "assert dataset_path.exists()"
   ]
  },
  {
   "cell_type": "markdown",
   "metadata": {},
   "source": [
    "With that hand-coded infrastructure out of the way, we can now operate on the local file as if it was a normal SX dataset.\n",
    "\n",
    "* Ignore the backend warnings with the next line - there really isn't a backend involved for the local running."
   ]
  },
  {
   "cell_type": "code",
   "execution_count": 5,
   "metadata": {},
   "outputs": [
    {
     "name": "stderr",
     "output_type": "stream",
     "text": [
      "Found backend type matching \"xaod\". Matching by type is deprecated. Please switch to using the \"name\" keyword in your servicex.yaml file.\n",
      "Found backend type matching \"xaod\". Matching by type is deprecated. Please switch to using the \"name\" keyword in your servicex.yaml file.\n"
     ]
    }
   ],
   "source": [
    "ds = xAODLocalTyped(dataset_path)\n",
    "ds = calib_tools.query_update(\n",
    "    ds, calib_config=calib_tools.default_config(\"PHYSLITE\")\n",
    ")"
   ]
  },
  {
   "cell_type": "code",
   "execution_count": 10,
   "metadata": {},
   "outputs": [
    {
     "name": "stdout",
     "output_type": "stream",
     "text": [
      "Unable to find image 'gitlab-registry.cern.ch/atlas/athena/analysisbase:22.2.107' locally\n"
     ]
    }
   ],
   "source": [
    "jets = (ds\n",
    "        .Select(lambda e: e.Jets())\n",
    "        .Select(lambda jets: jets.Where(lambda j: (j.pt() / 1000) > 30))\n",
    "        .Select(lambda jets: jets.Select(lambda j: j.pt() / 1000.0))\n",
    "        .AsAwkwardArray('JetPt')\n",
    "        .value())\n",
    "        \n",
    "jets_data = ak.flatten(jets.JetPt).compute()"
   ]
  },
  {
   "cell_type": "code",
   "execution_count": 11,
   "metadata": {},
   "outputs": [
    {
     "data": {
      "image/png": "[encoded data removed]",
      "text/plain": [
       "<Figure size 640x480 with 1 Axes>"
      ]
     },
     "metadata": {},
     "output_type": "display_data"
    }
   ],
   "source": [
    "plt.hist(jets_data, bins=100, range=(0, 250))\n",
    "plt.xlabel(\"$p_T$ [GeV]\")\n",
    "plt.show()"
   ]
  },
  {
   "cell_type": "code",
   "execution_count": 12,
   "metadata": {},
   "outputs": [],
   "source": [
    "jets_count = ak.count(jets.JetPt, axis=-1).compute()"
   ]
  },
  {
   "cell_type": "code",
   "execution_count": 13,
   "metadata": {},
   "outputs": [
    {
     "data": {
      "image/png": "[encoded data removed]",
      "text/plain": [
       "<Figure size 640x480 with 1 Axes>"
      ]
     },
     "metadata": {},
     "output_type": "display_data"
    }
   ],
   "source": [
    "plt.hist(jets_count, bins=20, range=(0, 20))\n",
    "plt.xlabel(\"$N_{Jets}$\")\n",
    "plt.show()"
   ]
  },
  {
   "cell_type": "code",
   "execution_count": null,
   "metadata": {},
   "outputs": [],
   "source": []
  }
 ],
 "metadata": {
  "kernelspec": {
   "display_name": ".venv",
   "language": "python",
   "name": "python3"
  },
  "language_info": {
   "codemirror_mode": {
    "name": "ipython",
    "version": 3
   },
   "file_extension": ".py",
   "mimetype": "text/x-python",
   "name": "python",
   "nbconvert_exporter": "python",
   "pygments_lexer": "ipython3",
   "version": "3.10.8"
  }
 },
 "nbformat": 4,
 "nbformat_minor": 2
}
